{
  "nbformat": 4,
  "nbformat_minor": 0,
  "metadata": {
    "colab": {
      "provenance": []
    },
    "kernelspec": {
      "name": "python3",
      "display_name": "Python 3"
    },
    "language_info": {
      "name": "python"
    }
  },
  "cells": [
    {
      "cell_type": "code",
      "source": [
        "# 📌 1. 최신 버전 라이브러리 설치\n",
        "!pip install --upgrade nltk gensim scipy\n",
        "\n",
        "# 📌 2. 데이터 다운로드\n",
        "import nltk\n",
        "nltk.download('brown')\n",
        "from nltk.corpus import brown\n",
        "\n",
        "# 📌 3. 데이터 확인\n",
        "sentences = brown.sents()\n",
        "print(sentences[:5])  # 처음 5개 문장 확인\n",
        "\n",
        "# 📌 4. Word2Vec 모델 학습 (skip-gram 사용)\n",
        "from gensim.models import Word2Vec\n",
        "model = Word2Vec(sentences, vector_size=100, seed=0, sg=1)\n",
        "\n",
        "# 📌 5. 단어 벡터 확인\n",
        "print(model.wv[\"mouth\"])\n",
        "\n",
        "# 📌 6. 단어 유사도 확인\n",
        "print(model.wv.most_similar('mouth', topn=10))\n",
        "print(model.wv.most_similar('computer', topn=10))"
      ],
      "metadata": {
        "colab": {
          "base_uri": "https://localhost:8080/"
        },
        "id": "vvrO0ODkQpJm",
        "outputId": "95704984-6116-44df-e5fb-66088833333d"
      },
      "execution_count": 1,
      "outputs": [
        {
          "output_type": "stream",
          "name": "stdout",
          "text": [
            "Requirement already satisfied: nltk in /usr/local/lib/python3.12/dist-packages (3.9.1)\n",
            "Requirement already satisfied: gensim in /usr/local/lib/python3.12/dist-packages (4.3.3)\n",
            "Requirement already satisfied: scipy in /usr/local/lib/python3.12/dist-packages (1.13.1)\n",
            "Collecting scipy\n",
            "  Using cached scipy-1.16.2-cp312-cp312-manylinux2014_x86_64.manylinux_2_17_x86_64.whl.metadata (62 kB)\n",
            "Requirement already satisfied: click in /usr/local/lib/python3.12/dist-packages (from nltk) (8.2.1)\n",
            "Requirement already satisfied: joblib in /usr/local/lib/python3.12/dist-packages (from nltk) (1.5.2)\n",
            "Requirement already satisfied: regex>=2021.8.3 in /usr/local/lib/python3.12/dist-packages (from nltk) (2024.11.6)\n",
            "Requirement already satisfied: tqdm in /usr/local/lib/python3.12/dist-packages (from nltk) (4.67.1)\n",
            "Requirement already satisfied: numpy<2.0,>=1.18.5 in /usr/local/lib/python3.12/dist-packages (from gensim) (1.26.4)\n",
            "Requirement already satisfied: smart-open>=1.8.1 in /usr/local/lib/python3.12/dist-packages (from gensim) (7.3.0.post1)\n",
            "Requirement already satisfied: wrapt in /usr/local/lib/python3.12/dist-packages (from smart-open>=1.8.1->gensim) (1.17.3)\n"
          ]
        },
        {
          "output_type": "stream",
          "name": "stderr",
          "text": [
            "[nltk_data] Downloading package brown to /root/nltk_data...\n",
            "[nltk_data]   Package brown is already up-to-date!\n"
          ]
        },
        {
          "output_type": "stream",
          "name": "stdout",
          "text": [
            "[['The', 'Fulton', 'County', 'Grand', 'Jury', 'said', 'Friday', 'an', 'investigation', 'of', \"Atlanta's\", 'recent', 'primary', 'election', 'produced', '``', 'no', 'evidence', \"''\", 'that', 'any', 'irregularities', 'took', 'place', '.'], ['The', 'jury', 'further', 'said', 'in', 'term-end', 'presentments', 'that', 'the', 'City', 'Executive', 'Committee', ',', 'which', 'had', 'over-all', 'charge', 'of', 'the', 'election', ',', '``', 'deserves', 'the', 'praise', 'and', 'thanks', 'of', 'the', 'City', 'of', 'Atlanta', \"''\", 'for', 'the', 'manner', 'in', 'which', 'the', 'election', 'was', 'conducted', '.'], ['The', 'September-October', 'term', 'jury', 'had', 'been', 'charged', 'by', 'Fulton', 'Superior', 'Court', 'Judge', 'Durwood', 'Pye', 'to', 'investigate', 'reports', 'of', 'possible', '``', 'irregularities', \"''\", 'in', 'the', 'hard-fought', 'primary', 'which', 'was', 'won', 'by', 'Mayor-nominate', 'Ivan', 'Allen', 'Jr.', '.'], ['``', 'Only', 'a', 'relative', 'handful', 'of', 'such', 'reports', 'was', 'received', \"''\", ',', 'the', 'jury', 'said', ',', '``', 'considering', 'the', 'widespread', 'interest', 'in', 'the', 'election', ',', 'the', 'number', 'of', 'voters', 'and', 'the', 'size', 'of', 'this', 'city', \"''\", '.'], ['The', 'jury', 'said', 'it', 'did', 'find', 'that', 'many', 'of', \"Georgia's\", 'registration', 'and', 'election', 'laws', '``', 'are', 'outmoded', 'or', 'inadequate', 'and', 'often', 'ambiguous', \"''\", '.']]\n",
            "[ 0.44389662  0.20312896  0.17330498 -0.22214861 -0.3014416   0.3664161\n",
            "  0.12501028 -0.3947127   0.19793266  0.1126634   0.07066204  0.4088984\n",
            " -0.01010185  0.1489367  -0.27794376 -0.01202782  0.15833883  0.07816581\n",
            " -0.37816542  0.11002269 -0.14752178  0.3892458  -0.3254889   0.26748213\n",
            "  0.5336582   0.30661494  0.51788163 -0.02998948 -0.01172757 -0.41244093\n",
            "  0.12671463 -0.18940958  0.20576671 -0.48084956 -0.14851312 -0.01256773\n",
            "  0.17040937  0.0058602   0.09216341 -0.02885353  0.31176382  0.01042119\n",
            " -0.16691892 -0.27474856 -0.4836782  -0.31142443 -0.0204336   0.15611054\n",
            " -0.33224943  0.36922914 -0.3504933  -0.20829122  0.38917783  0.7912505\n",
            "  0.45877224  0.3491054  -0.4183176   0.14445555 -0.13876498 -0.15686943\n",
            " -0.4540628   0.60086304 -0.12779954 -0.04847232  0.11426123  0.09405906\n",
            "  0.05649887 -0.26904485  0.05679626  0.19194429 -0.637156    0.0409351\n",
            " -0.17535795 -0.3126486   0.22616386  0.0556218   0.17988841  0.2947083\n",
            " -0.10809595  0.18395005  0.39502072 -0.2193479  -0.27817476 -0.1840725\n",
            "  0.05067448  0.23938932 -0.05452824 -0.2223474  -0.05224027  0.07170734\n",
            "  0.1102272   0.04709339  0.1542336  -0.35715422 -0.1125345   0.4515686\n",
            " -0.03592557 -0.17728803 -0.14808774  0.29270184]\n",
            "[('breath', 0.9321708679199219), ('chest', 0.9299662709236145), ('neck', 0.9250316023826599), ('knees', 0.9195267558097839), ('lips', 0.9166021943092346), ('hat', 0.9135034084320068), ('pocket', 0.9128568172454834), ('chair', 0.9120204448699951), ('nose', 0.9108697175979614), ('coat', 0.9069669246673584)]\n",
            "[('irregularities', 0.9679757356643677), ('recognizable', 0.9677721858024597), ('inhibition', 0.9677304625511169), ('astounding', 0.9676946401596069), ('configuration', 0.9666526913642883), ('bias', 0.9658140540122986), ('sterilization', 0.9657178521156311), (\"C'\", 0.9649054408073425), ('appestat', 0.9648109674453735), ('hilum', 0.9645912647247314)]\n"
          ]
        }
      ]
    }
  ]
}